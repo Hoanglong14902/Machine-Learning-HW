{
 "cells": [
  {
   "cell_type": "code",
   "execution_count": 1,
   "id": "eac75c4a",
   "metadata": {},
   "outputs": [],
   "source": [
    "import numpy as np\n",
    "import pandas as pd\n",
    "import matplotlib.pyplot as plt"
   ]
  },
  {
   "cell_type": "code",
   "execution_count": 2,
   "id": "6b5598cc",
   "metadata": {
    "scrolled": true
   },
   "outputs": [
    {
     "data": {
      "text/plain": [
       "array([[10.  ,  1.  ,  1.  ],\n",
       "       [ 5.  ,  2.  ,  1.  ],\n",
       "       [ 6.  ,  1.8 ,  1.  ],\n",
       "       [ 7.  ,  1.  ,  1.  ],\n",
       "       [ 8.  ,  2.  ,  1.  ],\n",
       "       [ 9.  ,  0.5 ,  1.  ],\n",
       "       [ 4.  ,  3.  ,  1.  ],\n",
       "       [ 5.  ,  2.5 ,  1.  ],\n",
       "       [ 8.  ,  1.  ,  1.  ],\n",
       "       [ 4.  ,  2.5 ,  1.  ],\n",
       "       [ 8.  ,  0.1 ,  0.  ],\n",
       "       [ 7.  ,  0.15,  0.  ],\n",
       "       [ 4.  ,  1.  ,  0.  ],\n",
       "       [ 5.  ,  0.8 ,  0.  ],\n",
       "       [ 7.  ,  0.3 ,  0.  ],\n",
       "       [ 4.  ,  1.  ,  0.  ],\n",
       "       [ 5.  ,  0.5 ,  0.  ],\n",
       "       [ 6.  ,  0.3 ,  0.  ],\n",
       "       [ 7.  ,  0.2 ,  0.  ],\n",
       "       [ 8.  ,  0.15,  0.  ]])"
      ]
     },
     "execution_count": 2,
     "metadata": {},
     "output_type": "execute_result"
    }
   ],
   "source": [
    "data = pd.read_csv('dataset.csv').values\n",
    "data"
   ]
  },
  {
   "cell_type": "code",
   "execution_count": 8,
   "id": "d508dc95",
   "metadata": {
    "scrolled": false
   },
   "outputs": [
    {
     "data": {
      "image/png": "[encoded data removed]",
      "text/plain": [
       "<Figure size 432x288 with 1 Axes>"
      ]
     },
     "metadata": {
      "needs_background": "light"
     },
     "output_type": "display_data"
    }
   ],
   "source": [
    "r, c = data.shape\n",
    "x = data[:, 0: c-1].reshape(-1, c-1)\n",
    "y = data[:, 2].reshape(-1, 1)\n",
    "\n",
    "#Vẽ đồ thị scatter \n",
    "def draw_scatter(x):\n",
    "    plt.scatter(x[:10, 0], x[:10, 1], c='#1963DC', s=30, label='cho vay')\n",
    "    plt.scatter(x[10:, 0], x[10:, 1], c='#DC6F19', s=30, label='không cho vay')\n",
    "    plt.legend(loc=1)\n",
    "    plt.grid(axis = \"both\", lw = 0.5)\n",
    "    plt.xlabel('Lương')\n",
    "    plt.ylabel('Thời gian làm việc')\n",
    "draw_scatter(x)"
   ]
  },
  {
   "cell_type": "markdown",
   "id": "23172e57",
   "metadata": {},
   "source": [
    "**2. Dùng thuật toán gradient descent, implement thuật toán logistic regeression**\n",
    "\n",
    "**3. Chạy toán toán logistic regression implement ở ý 2 cho dataset,  https://github.com/nttuan8/DL_Tutorial/blob/master/L2/dataset.csv.**\n",
    "\n",
    "**4. Vẽ đường boundary cho 2 class**"
   ]
  },
  {
   "cell_type": "code",
   "execution_count": 9,
   "id": "66ed4da9",
   "metadata": {},
   "outputs": [
    {
     "name": "stdout",
     "output_type": "stream",
     "text": [
      "Gradient descent:\n",
      " [[-7.26111475]\n",
      " [ 0.63022655]\n",
      " [ 3.64508734]]\n"
     ]
    },
    {
     "data": {
      "image/png": "[encoded data removed]",
      "text/plain": [
       "<Figure size 432x288 with 1 Axes>"
      ]
     },
     "metadata": {
      "needs_background": "light"
     },
     "output_type": "display_data"
    }
   ],
   "source": [
    "#Hàm sigmoid\n",
    "def sigmoid(x):\n",
    "    return 1 / (1 + np.exp(-x))\n",
    "\n",
    "# Vẽ biểu đồ scatter\n",
    "draw_scatter(x)\n",
    "\n",
    "# Thêm cột 1 vào dữ liệu x\n",
    "x = np.hstack((np.ones((r, 1)), x))\n",
    "w = np.array([0.,0.1,0.1]).reshape(-1,1)\n",
    "\n",
    "# Số lần lặp lại bước 2\n",
    "learning_rate = 0.01\n",
    "num_interations = 1000\n",
    "cost = np.zeros((num_interations, 1))\n",
    "\n",
    "#2. Dùng thuật toán gradient descent, implement thuật toán logistic regeression\n",
    "#3. Chạy toán toán logistic regression implement ở ý 2 cho dataset \n",
    "\n",
    "def predict(x, w): \n",
    "    y_predict = sigmoid(np.dot(x, w))\n",
    "    return y_predict\n",
    "\n",
    "def compute_cost(y):\n",
    "    cost = - np.sum(y * np.log(y_predict) + (1 - y) * np.log(1-y_predict))\n",
    "    return cost\n",
    "\n",
    "def gradient_descent(x, w):\n",
    "    return w - learning_rate * np.dot(x.T, y_predict-y)\n",
    "\n",
    "for i in range(1, num_interations): \n",
    "    y_predict = predict(x, w)\n",
    "    cost[i] = compute_cost(y)\n",
    "    w = gradient_descent(x, w)\n",
    "\n",
    "print(f\"Gradient descent:\\n {gradient_descent(x, w)}\")\n",
    "\n",
    "#4. Vẽ đường boundary cho 2 class.\n",
    "t = 0.5\n",
    "plt.plot((4, 10),(-(w[0] + 4*w[1] + np.log(1/t-1)) / w[2], -(w[0] + 10*w[1] + np.log(1/t-1)) / w[2]), 'g', linewidth = 1)\n",
    "plt.show()"
   ]
  },
  {
   "cell_type": "code",
   "execution_count": null,
   "id": "25f10780",
   "metadata": {},
   "outputs": [],
   "source": []
  }
 ],
 "metadata": {
  "kernelspec": {
   "display_name": "Python 3",
   "language": "python",
   "name": "python3"
  },
  "language_info": {
   "codemirror_mode": {
    "name": "ipython",
    "version": 3
   },
   "file_extension": ".py",
   "mimetype": "text/x-python",
   "name": "python",
   "nbconvert_exporter": "python",
   "pygments_lexer": "ipython3",
   "version": "3.8.8"
  }
 },
 "nbformat": 4,
 "nbformat_minor": 5
}
