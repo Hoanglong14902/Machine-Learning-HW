{
 "cells": [
  {
   "cell_type": "code",
   "execution_count": 3,
   "id": "604879c8",
   "metadata": {},
   "outputs": [],
   "source": [
    "import numpy as np \n",
    "import pandas as pd\n",
    "import matplotlib.pyplot as plt"
   ]
  },
  {
   "cell_type": "markdown",
   "id": "56849a4e",
   "metadata": {},
   "source": [
    "# Bài 2"
   ]
  },
  {
   "cell_type": "code",
   "execution_count": 54,
   "id": "15613c6a",
   "metadata": {
    "scrolled": true
   },
   "outputs": [
    {
     "data": {
      "text/plain": [
       "array([[  30.    ,  448.524 ],\n",
       "       [  32.4138,  509.248 ],\n",
       "       [  34.8276,  535.104 ],\n",
       "       [  37.2414,  551.432 ],\n",
       "       [  39.6552,  623.418 ],\n",
       "       [  42.069 ,  625.992 ],\n",
       "       [  44.4828,  655.248 ],\n",
       "       [  46.8966,  701.377 ],\n",
       "       [  49.3103,  748.918 ],\n",
       "       [  51.7241,  757.881 ],\n",
       "       [  54.1379,  831.004 ],\n",
       "       [  56.5517,  855.409 ],\n",
       "       [  58.9655,  866.707 ],\n",
       "       [  61.3793,  902.545 ],\n",
       "       [  63.7931,  952.261 ],\n",
       "       [  66.2069,  995.531 ],\n",
       "       [  68.6207, 1069.78  ],\n",
       "       [  71.0345, 1074.42  ],\n",
       "       [  73.4483, 1103.88  ],\n",
       "       [  75.8621, 1138.69  ],\n",
       "       [  78.2759, 1153.13  ],\n",
       "       [  80.6897, 1240.27  ],\n",
       "       [  83.1034, 1251.9   ],\n",
       "       [  85.5172, 1287.97  ],\n",
       "       [  87.931 , 1320.47  ],\n",
       "       [  90.3448, 1374.92  ],\n",
       "       [  92.7586, 1410.16  ],\n",
       "       [  95.1724, 1469.69  ],\n",
       "       [  97.5862, 1478.54  ],\n",
       "       [ 100.    , 1515.28  ]])"
      ]
     },
     "execution_count": 54,
     "metadata": {},
     "output_type": "execute_result"
    }
   ],
   "source": [
    "data = pd.read_csv('data_linear.csv').values\n",
    "data"
   ]
  },
  {
   "cell_type": "code",
   "execution_count": 5,
   "id": "3d04c4ae",
   "metadata": {},
   "outputs": [],
   "source": [
    "#Gọi x là Mét vuông (diện tích), y là Giá (giá nhà)"
   ]
  },
  {
   "cell_type": "code",
   "execution_count": 55,
   "id": "e8cf31e5",
   "metadata": {},
   "outputs": [],
   "source": [
    "x = data[:, 0].reshape(-1, 1)\n",
    "y = data[:, 1].reshape(-1, 1)"
   ]
  },
  {
   "cell_type": "code",
   "execution_count": 56,
   "id": "bb3454a5",
   "metadata": {},
   "outputs": [
    {
     "name": "stdout",
     "output_type": "stream",
     "text": [
      "w =  [[-7.06426865]\n",
      " [15.2110908 ]]\n"
     ]
    }
   ],
   "source": [
    "one = np.ones((data.shape[0], 1))\n",
    "xbar = np.concatenate((one, x), axis = 1)\n",
    "A = np.dot(xbar.T, xbar)\n",
    "b = np.dot(xbar.T, y)\n",
    "w = np.dot(np.linalg.pinv(A), b) #Giả nghịch đảo\n",
    "print('w = ', w)"
   ]
  },
  {
   "cell_type": "code",
   "execution_count": 57,
   "id": "0a2d4362",
   "metadata": {},
   "outputs": [],
   "source": [
    "w_0 = w[0][0]\n",
    "w_1 = w[1][0]\n",
    "x0 = np.linspace(30, 100, 2, endpoint=True)\n",
    "y0 = w_0 + w_1*x0"
   ]
  },
  {
   "cell_type": "markdown",
   "id": "c6922644",
   "metadata": {},
   "source": [
    "**Model linear regression:**"
   ]
  },
  {
   "cell_type": "code",
   "execution_count": 58,
   "id": "48a597c9",
   "metadata": {
    "scrolled": true
   },
   "outputs": [
    {
     "name": "stdout",
     "output_type": "stream",
     "text": [
      "-7.064 + 15.211x\n"
     ]
    }
   ],
   "source": [
    "model = f\"{round(w_0, 3)} + {round(w_1, 3)}x\"\n",
    "print(model)"
   ]
  },
  {
   "cell_type": "markdown",
   "id": "7e2a3369",
   "metadata": {},
   "source": [
    "**1. Vẽ model dự đoán (đường thẳng) và dữ liệu (point - scatter).**"
   ]
  },
  {
   "cell_type": "code",
   "execution_count": 59,
   "id": "9a58532f",
   "metadata": {
    "scrolled": true
   },
   "outputs": [
    {
     "data": {
      "image/png": "[encoded data removed]",
      "text/plain": [
       "<Figure size 432x288 with 1 Axes>"
      ]
     },
     "metadata": {
      "needs_background": "light"
     },
     "output_type": "display_data"
    }
   ],
   "source": [
    "plt.plot(x.T, y.T, 'ro')     # data \n",
    "plt.plot(x0, y0)             # the fitting line\n",
    "plt.xlabel('Mét vuông')\n",
    "plt.ylabel('Giá')\n",
    "plt.show()"
   ]
  },
  {
   "cell_type": "markdown",
   "id": "f1110b10",
   "metadata": {},
   "source": [
    "**2. Dự đoán giá các căn nhà có diện tích 50, 100, 150.**"
   ]
  },
  {
   "cell_type": "code",
   "execution_count": 11,
   "id": "699f7c5a",
   "metadata": {},
   "outputs": [],
   "source": [
    "y1 = w_1*50 + w_0\n",
    "y2 = w_1*100 + w_0\n",
    "y3 = w_1*150 + w_0"
   ]
  },
  {
   "cell_type": "code",
   "execution_count": 12,
   "id": "2e288d88",
   "metadata": {},
   "outputs": [
    {
     "name": "stdout",
     "output_type": "stream",
     "text": [
      "Giá nhà cho 50m^2 là : 753.4902713382899\n"
     ]
    }
   ],
   "source": [
    "print('Giá nhà cho 50m^2 là :', y1)"
   ]
  },
  {
   "cell_type": "code",
   "execution_count": 13,
   "id": "f1c74dc0",
   "metadata": {},
   "outputs": [
    {
     "name": "stdout",
     "output_type": "stream",
     "text": [
      "Giá nhà cho 100m^2 là : 1514.0448113217808\n"
     ]
    }
   ],
   "source": [
    "print('Giá nhà cho 100m^2 là :', y2)"
   ]
  },
  {
   "cell_type": "code",
   "execution_count": 14,
   "id": "a3877a79",
   "metadata": {},
   "outputs": [
    {
     "name": "stdout",
     "output_type": "stream",
     "text": [
      "Giá nhà cho 150m^2 là : 2274.5993513052717\n"
     ]
    }
   ],
   "source": [
    "print('Giá nhà cho 150m^2 là :', y3)"
   ]
  },
  {
   "cell_type": "markdown",
   "id": "6b6f2224",
   "metadata": {},
   "source": [
    "# Bài 3"
   ]
  },
  {
   "cell_type": "code",
   "execution_count": 37,
   "id": "75fc6dda",
   "metadata": {},
   "outputs": [],
   "source": [
    "from numpy.linalg import inv"
   ]
  },
  {
   "cell_type": "code",
   "execution_count": 46,
   "id": "37deb8cb",
   "metadata": {},
   "outputs": [
    {
     "data": {
      "text/html": [
       "<div>\n",
       "<style scoped>\n",
       "    .dataframe tbody tr th:only-of-type {\n",
       "        vertical-align: middle;\n",
       "    }\n",
       "\n",
       "    .dataframe tbody tr th {\n",
       "        vertical-align: top;\n",
       "    }\n",
       "\n",
       "    .dataframe thead th {\n",
       "        text-align: right;\n",
       "    }\n",
       "</style>\n",
       "<table border=\"1\" class=\"dataframe\">\n",
       "  <thead>\n",
       "    <tr style=\"text-align: right;\">\n",
       "      <th></th>\n",
       "      <th>CRIM</th>\n",
       "      <th>ZN</th>\n",
       "      <th>INDUS</th>\n",
       "      <th>CHAS</th>\n",
       "      <th>NOX</th>\n",
       "      <th>RM</th>\n",
       "      <th>AGE</th>\n",
       "      <th>DIS</th>\n",
       "      <th>RAD</th>\n",
       "      <th>TAX</th>\n",
       "      <th>PTRATIO</th>\n",
       "      <th>B</th>\n",
       "      <th>LSTAT</th>\n",
       "      <th>MEDV</th>\n",
       "    </tr>\n",
       "  </thead>\n",
       "  <tbody>\n",
       "    <tr>\n",
       "      <th>0</th>\n",
       "      <td>0.00632</td>\n",
       "      <td>18.0</td>\n",
       "      <td>2.31</td>\n",
       "      <td>0</td>\n",
       "      <td>0.538</td>\n",
       "      <td>6.575</td>\n",
       "      <td>65.2</td>\n",
       "      <td>4.0900</td>\n",
       "      <td>1</td>\n",
       "      <td>296.0</td>\n",
       "      <td>15.3</td>\n",
       "      <td>396.90</td>\n",
       "      <td>4.98</td>\n",
       "      <td>24.0</td>\n",
       "    </tr>\n",
       "    <tr>\n",
       "      <th>1</th>\n",
       "      <td>0.02731</td>\n",
       "      <td>0.0</td>\n",
       "      <td>7.07</td>\n",
       "      <td>0</td>\n",
       "      <td>0.469</td>\n",
       "      <td>6.421</td>\n",
       "      <td>78.9</td>\n",
       "      <td>4.9671</td>\n",
       "      <td>2</td>\n",
       "      <td>242.0</td>\n",
       "      <td>17.8</td>\n",
       "      <td>396.90</td>\n",
       "      <td>9.14</td>\n",
       "      <td>21.6</td>\n",
       "    </tr>\n",
       "    <tr>\n",
       "      <th>2</th>\n",
       "      <td>0.02729</td>\n",
       "      <td>0.0</td>\n",
       "      <td>7.07</td>\n",
       "      <td>0</td>\n",
       "      <td>0.469</td>\n",
       "      <td>7.185</td>\n",
       "      <td>61.1</td>\n",
       "      <td>4.9671</td>\n",
       "      <td>2</td>\n",
       "      <td>242.0</td>\n",
       "      <td>17.8</td>\n",
       "      <td>392.83</td>\n",
       "      <td>4.03</td>\n",
       "      <td>34.7</td>\n",
       "    </tr>\n",
       "    <tr>\n",
       "      <th>3</th>\n",
       "      <td>0.03237</td>\n",
       "      <td>0.0</td>\n",
       "      <td>2.18</td>\n",
       "      <td>0</td>\n",
       "      <td>0.458</td>\n",
       "      <td>6.998</td>\n",
       "      <td>45.8</td>\n",
       "      <td>6.0622</td>\n",
       "      <td>3</td>\n",
       "      <td>222.0</td>\n",
       "      <td>18.7</td>\n",
       "      <td>394.63</td>\n",
       "      <td>2.94</td>\n",
       "      <td>33.4</td>\n",
       "    </tr>\n",
       "    <tr>\n",
       "      <th>4</th>\n",
       "      <td>0.06905</td>\n",
       "      <td>0.0</td>\n",
       "      <td>2.18</td>\n",
       "      <td>0</td>\n",
       "      <td>0.458</td>\n",
       "      <td>7.147</td>\n",
       "      <td>54.2</td>\n",
       "      <td>6.0622</td>\n",
       "      <td>3</td>\n",
       "      <td>222.0</td>\n",
       "      <td>18.7</td>\n",
       "      <td>396.90</td>\n",
       "      <td>5.33</td>\n",
       "      <td>36.2</td>\n",
       "    </tr>\n",
       "  </tbody>\n",
       "</table>\n",
       "</div>"
      ],
      "text/plain": [
       "      CRIM    ZN  INDUS  CHAS    NOX     RM   AGE     DIS  RAD    TAX  \\\n",
       "0  0.00632  18.0   2.31     0  0.538  6.575  65.2  4.0900    1  296.0   \n",
       "1  0.02731   0.0   7.07     0  0.469  6.421  78.9  4.9671    2  242.0   \n",
       "2  0.02729   0.0   7.07     0  0.469  7.185  61.1  4.9671    2  242.0   \n",
       "3  0.03237   0.0   2.18     0  0.458  6.998  45.8  6.0622    3  222.0   \n",
       "4  0.06905   0.0   2.18     0  0.458  7.147  54.2  6.0622    3  222.0   \n",
       "\n",
       "   PTRATIO       B  LSTAT  MEDV  \n",
       "0     15.3  396.90   4.98  24.0  \n",
       "1     17.8  396.90   9.14  21.6  \n",
       "2     17.8  392.83   4.03  34.7  \n",
       "3     18.7  394.63   2.94  33.4  \n",
       "4     18.7  396.90   5.33  36.2  "
      ]
     },
     "execution_count": 46,
     "metadata": {},
     "output_type": "execute_result"
    }
   ],
   "source": [
    "column_names = ['CRIM', 'ZN', 'INDUS', 'CHAS', 'NOX', 'RM', 'AGE', 'DIS', 'RAD', 'TAX', 'PTRATIO', 'B', 'LSTAT', 'MEDV']\n",
    "boston = pd.read_csv(\"housing.csv\",header=None, delimiter=r'\\s+', names=column_names)\n",
    "boston.head()"
   ]
  },
  {
   "cell_type": "code",
   "execution_count": 47,
   "id": "dd66d1ab",
   "metadata": {},
   "outputs": [
    {
     "data": {
      "text/plain": [
       "(506, 1)"
      ]
     },
     "execution_count": 47,
     "metadata": {},
     "output_type": "execute_result"
    }
   ],
   "source": [
    "X = boston.drop('MEDV', axis=1).values\n",
    "y = boston['MEDV'].values\n",
    "N = boston.shape[0]\n",
    "y = y.reshape(-1, 1)\n",
    "y.shape"
   ]
  },
  {
   "cell_type": "code",
   "execution_count": 48,
   "id": "20d3858a",
   "metadata": {},
   "outputs": [
    {
     "data": {
      "text/plain": [
       "array([[1.0000e+00, 6.3200e-03, 1.8000e+01, ..., 1.5300e+01, 3.9690e+02,\n",
       "        4.9800e+00],\n",
       "       [1.0000e+00, 2.7310e-02, 0.0000e+00, ..., 1.7800e+01, 3.9690e+02,\n",
       "        9.1400e+00],\n",
       "       [1.0000e+00, 2.7290e-02, 0.0000e+00, ..., 1.7800e+01, 3.9283e+02,\n",
       "        4.0300e+00],\n",
       "       ...,\n",
       "       [1.0000e+00, 6.0760e-02, 0.0000e+00, ..., 2.1000e+01, 3.9690e+02,\n",
       "        5.6400e+00],\n",
       "       [1.0000e+00, 1.0959e-01, 0.0000e+00, ..., 2.1000e+01, 3.9345e+02,\n",
       "        6.4800e+00],\n",
       "       [1.0000e+00, 4.7410e-02, 0.0000e+00, ..., 2.1000e+01, 3.9690e+02,\n",
       "        7.8800e+00]])"
      ]
     },
     "execution_count": 48,
     "metadata": {},
     "output_type": "execute_result"
    }
   ],
   "source": [
    "ones = np.ones(shape=N).reshape(-1,1)\n",
    "X = np.concatenate((ones, X), 1)\n",
    "X"
   ]
  },
  {
   "cell_type": "code",
   "execution_count": 49,
   "id": "8a69c7e3",
   "metadata": {},
   "outputs": [
    {
     "data": {
      "text/plain": [
       "array([[ 3.64594884e+01],\n",
       "       [-1.08011358e-01],\n",
       "       [ 4.64204584e-02],\n",
       "       [ 2.05586264e-02],\n",
       "       [ 2.68673382e+00],\n",
       "       [-1.77666112e+01],\n",
       "       [ 3.80986521e+00],\n",
       "       [ 6.92224640e-04],\n",
       "       [-1.47556685e+00],\n",
       "       [ 3.06049479e-01],\n",
       "       [-1.23345939e-02],\n",
       "       [-9.52747232e-01],\n",
       "       [ 9.31168327e-03],\n",
       "       [-5.24758378e-01]])"
      ]
     },
     "execution_count": 49,
     "metadata": {},
     "output_type": "execute_result"
    }
   ],
   "source": [
    "coef = inv(X.T @X)@X.T @y\n",
    "coef"
   ]
  },
  {
   "cell_type": "code",
   "execution_count": 50,
   "id": "2e38bf7b",
   "metadata": {},
   "outputs": [],
   "source": [
    "def predict(case):\n",
    "    b_0 = coef[0]\n",
    "    other_b = coef[1:]\n",
    "    prediction = b_0\n",
    "    for x_i, b_i in zip(case, other_b):\n",
    "        prediction += (b_i * x_i)\n",
    "        return prediction"
   ]
  },
  {
   "cell_type": "code",
   "execution_count": 51,
   "id": "deea2997",
   "metadata": {},
   "outputs": [
    {
     "data": {
      "text/plain": [
       "array([36.35147703])"
      ]
     },
     "execution_count": 51,
     "metadata": {},
     "output_type": "execute_result"
    }
   ],
   "source": [
    "predict(X[0])"
   ]
  }
 ],
 "metadata": {
  "kernelspec": {
   "display_name": "Python 3",
   "language": "python",
   "name": "python3"
  },
  "language_info": {
   "codemirror_mode": {
    "name": "ipython",
    "version": 3
   },
   "file_extension": ".py",
   "mimetype": "text/x-python",
   "name": "python",
   "nbconvert_exporter": "python",
   "pygments_lexer": "ipython3",
   "version": "3.8.8"
  }
 },
 "nbformat": 4,
 "nbformat_minor": 5
}
