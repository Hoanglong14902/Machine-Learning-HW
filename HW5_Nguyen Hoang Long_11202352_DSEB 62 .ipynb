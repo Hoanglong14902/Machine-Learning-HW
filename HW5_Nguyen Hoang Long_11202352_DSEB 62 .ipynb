{
 "cells": [
  {
   "cell_type": "code",
   "execution_count": 1,
   "id": "5223f879",
   "metadata": {},
   "outputs": [],
   "source": [
    "import numpy as np\n",
    "import pandas as pd\n",
    "import matplotlib.pyplot as plt"
   ]
  },
  {
   "cell_type": "markdown",
   "id": "aa71c97d",
   "metadata": {},
   "source": [
    "**2. Dùng thuật toán gradient descent, implement thuật toán logistic regeression**"
   ]
  },
  {
   "cell_type": "code",
   "execution_count": 62,
   "id": "9d8ecec6",
   "metadata": {},
   "outputs": [],
   "source": [
    "class LogisticRegression:\n",
    "    def __init__(self, num_interations, alpha, w = None):\n",
    "        self.w = w\n",
    "        self.num_interations = num_interations\n",
    "        self.alpha = alpha\n",
    "        \n",
    "    def gradient_descent(self):\n",
    "        return self.w\n",
    "    \n",
    "    def sigmoid(self, x):\n",
    "        return 1 / (1 + np.exp(-x))\n",
    "    \n",
    "    def predict(self, x): \n",
    "        y_predict = self.sigmoid(np.dot(x, self.w))\n",
    "        return y_predict\n",
    "    \n",
    "    def fit_logistic_regression(self, x, w):\n",
    "        r, c = x.shape\n",
    "        x = np.hstack((np.ones((r, 1)), x))\n",
    "        self.w = np.array([0.,0.1,0.1]).reshape(-1,1)\n",
    "        \n",
    "        for i in range(1, self.num_interations):\n",
    "            y_predict = self.predict(x)\n",
    "            cost = - np.sum(y * np.log(y_predict) + (1 - y) * np.log(1-y_predict))\n",
    "            self.w = self.w - self.alpha * np.dot(x.T, y_predict - y)            "
   ]
  },
  {
   "cell_type": "markdown",
   "id": "f282ce6f",
   "metadata": {},
   "source": [
    "**3. Chạy toán toán logistic regression implement ở ý 2 cho dataset,  https://github.com/nttuan8/DL_Tutorial/blob/master/L2/dataset.csv.**\n",
    "\n",
    "**4. Vẽ đường boundary cho 2 class**"
   ]
  },
  {
   "cell_type": "code",
   "execution_count": 63,
   "id": "cd6daf26",
   "metadata": {},
   "outputs": [
    {
     "data": {
      "text/html": [
       "<div>\n",
       "<style scoped>\n",
       "    .dataframe tbody tr th:only-of-type {\n",
       "        vertical-align: middle;\n",
       "    }\n",
       "\n",
       "    .dataframe tbody tr th {\n",
       "        vertical-align: top;\n",
       "    }\n",
       "\n",
       "    .dataframe thead th {\n",
       "        text-align: right;\n",
       "    }\n",
       "</style>\n",
       "<table border=\"1\" class=\"dataframe\">\n",
       "  <thead>\n",
       "    <tr style=\"text-align: right;\">\n",
       "      <th></th>\n",
       "      <th>Lương</th>\n",
       "      <th>Thời gian làm việc</th>\n",
       "      <th>Cho vay</th>\n",
       "    </tr>\n",
       "  </thead>\n",
       "  <tbody>\n",
       "    <tr>\n",
       "      <th>0</th>\n",
       "      <td>10</td>\n",
       "      <td>1.0</td>\n",
       "      <td>1</td>\n",
       "    </tr>\n",
       "    <tr>\n",
       "      <th>1</th>\n",
       "      <td>5</td>\n",
       "      <td>2.0</td>\n",
       "      <td>1</td>\n",
       "    </tr>\n",
       "    <tr>\n",
       "      <th>2</th>\n",
       "      <td>6</td>\n",
       "      <td>1.8</td>\n",
       "      <td>1</td>\n",
       "    </tr>\n",
       "    <tr>\n",
       "      <th>3</th>\n",
       "      <td>7</td>\n",
       "      <td>1.0</td>\n",
       "      <td>1</td>\n",
       "    </tr>\n",
       "    <tr>\n",
       "      <th>4</th>\n",
       "      <td>8</td>\n",
       "      <td>2.0</td>\n",
       "      <td>1</td>\n",
       "    </tr>\n",
       "  </tbody>\n",
       "</table>\n",
       "</div>"
      ],
      "text/plain": [
       "   Lương  Thời gian làm việc  Cho vay\n",
       "0     10                 1.0        1\n",
       "1      5                 2.0        1\n",
       "2      6                 1.8        1\n",
       "3      7                 1.0        1\n",
       "4      8                 2.0        1"
      ]
     },
     "execution_count": 63,
     "metadata": {},
     "output_type": "execute_result"
    }
   ],
   "source": [
    "data = pd.read_csv('dataset.csv')\n",
    "data.head()"
   ]
  },
  {
   "cell_type": "code",
   "execution_count": 64,
   "id": "2e541c55",
   "metadata": {},
   "outputs": [],
   "source": [
    "data = data.values\n",
    "r, c = data.shape\n",
    "x = data[:, 0:c-1].reshape(-1, c-1)\n",
    "y = data[:, 2].reshape(-1, 1)"
   ]
  },
  {
   "cell_type": "code",
   "execution_count": 65,
   "id": "2429bff0",
   "metadata": {
    "scrolled": true
   },
   "outputs": [
    {
     "data": {
      "text/plain": [
       "array([[-7.25683504],\n",
       "       [ 0.62975152],\n",
       "       [ 3.6436906 ]])"
      ]
     },
     "execution_count": 65,
     "metadata": {},
     "output_type": "execute_result"
    }
   ],
   "source": [
    "model = LogisticRegression(num_interations = 1000, alpha = 0.01)\n",
    "model.fit_logistic_regression(x, y)\n",
    "model.gradient_descent()"
   ]
  },
  {
   "cell_type": "code",
   "execution_count": 57,
   "id": "58d6eb63",
   "metadata": {},
   "outputs": [
    {
     "data": {
      "image/png": "[encoded data removed]",
      "text/plain": [
       "<Figure size 432x288 with 1 Axes>"
      ]
     },
     "metadata": {
      "needs_background": "light"
     },
     "output_type": "display_data"
    }
   ],
   "source": [
    "x_cho_vay = x[y[:,0]==1]\n",
    "x_tu_choi = x[y[:,0]==0]\n",
    "\n",
    "plt.scatter(x[:10, 0], x[:10, 1], c='#1963DC', s=30, label='cho vay')\n",
    "plt.scatter(x[10:, 0], x[10:, 1], c='#DC6F19', s=30, label='không cho vay')\n",
    "plt.legend(loc=1)\n",
    "plt.grid(axis = \"both\", lw = 0.5)\n",
    "plt.xlabel('Lương')\n",
    "plt.ylabel('Thời gian làm việc')\n",
    "\n",
    "t = 0.5\n",
    "plt.plot((4, 10),(-(model.w[0]+4*model.w[1]+ np.log(1/t-1))/model.w[2], -(model.w[0] + 10*model.w[1]+ np.log(1/t-1))/model.w[2]), 'g', linewidth = 1)\n",
    "plt.show()"
   ]
  },
  {
   "cell_type": "code",
   "execution_count": null,
   "id": "d5a934bd",
   "metadata": {},
   "outputs": [],
   "source": []
  }
 ],
 "metadata": {
  "kernelspec": {
   "display_name": "Python 3",
   "language": "python",
   "name": "python3"
  },
  "language_info": {
   "codemirror_mode": {
    "name": "ipython",
    "version": 3
   },
   "file_extension": ".py",
   "mimetype": "text/x-python",
   "name": "python",
   "nbconvert_exporter": "python",
   "pygments_lexer": "ipython3",
   "version": "3.8.8"
  }
 },
 "nbformat": 4,
 "nbformat_minor": 5
}
